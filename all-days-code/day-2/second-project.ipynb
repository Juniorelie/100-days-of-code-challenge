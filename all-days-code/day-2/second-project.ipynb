{
 "cells": [
  {
   "cell_type": "markdown",
   "metadata": {},
   "source": [
    "## Project - Tip Calculator"
   ]
  },
  {
   "cell_type": "code",
   "execution_count": 9,
   "metadata": {},
   "outputs": [
    {
     "name": "stdout",
     "output_type": "stream",
     "text": [
      "Welcome to the tip calculator\n",
      "The bill was: 200.0€\n",
      "How much do you want to tip ? 20%\n",
      "How many people will split the bill ? 7\n",
      "Each person should pay: 34.29€\n"
     ]
    }
   ],
   "source": [
    "print(\"Welcome to the tip calculator\")\n",
    "bill = input(\"What was the total bill ? €\") # 200\n",
    "tip = input(\"How much tip would you like to give ? 10%, 12%, 15%, more or none(0)\") # 20\n",
    "split = input(\"How many people to split the bill ?\") # 7\n",
    "\n",
    "# Changing the type of the varaiables\n",
    "bill = float(bill)\n",
    "tip = int(tip)\n",
    "split = int(split)\n",
    "\n",
    "# Calculating the new bill with tip\n",
    "\n",
    "newBill = bill + bill * (tip / 100) # bill * (1 + tip / 100) <=> bill * 1.20 in our case\n",
    "\n",
    "# Calculating the bill after split\n",
    "\n",
    "billAfterSplit = round(newBill / split, 2) # billAfterSplit = \"{:.2f}\".format(newBill / split) -> to get two numbers after the decimal no matter what\n",
    "\n",
    "print(f\"The bill was: {bill}€\")\n",
    "print(f\"How much do you want to tip ? {tip}%\")\n",
    "print(f\"How many people will split the bill ? {split}\")\n",
    "print(f\"Each person should pay: {billAfterSplit}€\")"
   ]
  }
 ],
 "metadata": {
  "kernelspec": {
   "display_name": "base",
   "language": "python",
   "name": "python3"
  },
  "language_info": {
   "codemirror_mode": {
    "name": "ipython",
    "version": 3
   },
   "file_extension": ".py",
   "mimetype": "text/x-python",
   "name": "python",
   "nbconvert_exporter": "python",
   "pygments_lexer": "ipython3",
   "version": "3.9.12"
  }
 },
 "nbformat": 4,
 "nbformat_minor": 2
}
