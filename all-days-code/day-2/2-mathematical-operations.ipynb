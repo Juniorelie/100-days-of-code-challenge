{
 "cells": [
  {
   "cell_type": "markdown",
   "metadata": {},
   "source": [
    "## The mathematical operators"
   ]
  },
  {
   "cell_type": "code",
   "execution_count": null,
   "metadata": {},
   "outputs": [],
   "source": [
    "3 + 5 # Addition\n",
    "7 - 4 # Substraction\n",
    "3 * 2 # Multiplication\n",
    "6 / 3 # Division -> always returns a floating number\n",
    "2 ** 2 # Exponent -> to raise the number to the power of..."
   ]
  },
  {
   "cell_type": "markdown",
   "metadata": {},
   "source": [
    "### PEMDAS - Order of priority in mathematical operations"
   ]
  },
  {
   "cell_type": "markdown",
   "metadata": {},
   "source": [
    "- Parentheses -> ()\n",
    "- Exponnents -> **\n",
    "- Multiplication -> *\n",
    "- Division -> / (* and / are equally important - the calculation most to the left will be prioritize)\n",
    "- Addition -> +\n",
    "- Substraction -> - (+ and - are equally important - the calculation most to the left will be prioritize)"
   ]
  },
  {
   "cell_type": "markdown",
   "metadata": {},
   "source": [
    "#### e.g."
   ]
  },
  {
   "cell_type": "code",
   "execution_count": 5,
   "metadata": {},
   "outputs": [
    {
     "name": "stdout",
     "output_type": "stream",
     "text": [
      "7.0\n",
      "3.0\n"
     ]
    }
   ],
   "source": [
    "print(3 * 3 + 3 / 3 - 3) # 3 times 3 (9) then 3 divided by 3 (1.0) then sum of the multiplication and addition (10.0) followed by the substraction by 3 (7.0)\n",
    "print(3 * (3 + 3) / 3 - 3) # Parentheses take priority here and then it's the same operations"
   ]
  },
  {
   "cell_type": "markdown",
   "metadata": {},
   "source": [
    "## Number Manipulation"
   ]
  },
  {
   "cell_type": "code",
   "execution_count": 6,
   "metadata": {},
   "outputs": [
    {
     "name": "stdout",
     "output_type": "stream",
     "text": [
      "2.67\n"
     ]
    }
   ],
   "source": [
    "print(round(8 / 3, 2)) # We can round a floating number and specify the number of digit after the coma we want --here 2--"
   ]
  },
  {
   "cell_type": "code",
   "execution_count": 7,
   "metadata": {},
   "outputs": [
    {
     "name": "stdout",
     "output_type": "stream",
     "text": [
      "2\n"
     ]
    }
   ],
   "source": [
    "print(8 // 3) # Whenever we do not want a division to give a float number we use this operation (floor division) which will round down the division!"
   ]
  },
  {
   "cell_type": "code",
   "execution_count": 8,
   "metadata": {},
   "outputs": [
    {
     "name": "stdout",
     "output_type": "stream",
     "text": [
      "1.0\n"
     ]
    }
   ],
   "source": [
    "result = 4 / 2\n",
    "result /= 2 # instead of writting result = result / 2\n",
    "print(result)"
   ]
  },
  {
   "cell_type": "code",
   "execution_count": 10,
   "metadata": {},
   "outputs": [
    {
     "name": "stdout",
     "output_type": "stream",
     "text": [
      "1\n"
     ]
    }
   ],
   "source": [
    "score = 0\n",
    "score += 1 # instead of writting score = score + 1 -> works with -, * as well\n",
    "print(score)"
   ]
  },
  {
   "cell_type": "markdown",
   "metadata": {},
   "source": [
    "## F-Strings"
   ]
  },
  {
   "cell_type": "code",
   "execution_count": 12,
   "metadata": {},
   "outputs": [
    {
     "name": "stdout",
     "output_type": "stream",
     "text": [
      "Your score is 2, your height is 1.85, are you winning ? True\n"
     ]
    }
   ],
   "source": [
    "score = 2\n",
    "height = 1.85\n",
    "isWinning = True\n",
    "print(f\"Your score is {score}, your height is {height}, are you winning ? {isWinning}\") # f-string allows concatanation between different data types unlike the + operator"
   ]
  },
  {
   "cell_type": "markdown",
   "metadata": {},
   "source": [
    "### Exercise"
   ]
  },
  {
   "cell_type": "code",
   "execution_count": 14,
   "metadata": {},
   "outputs": [
    {
     "name": "stdout",
     "output_type": "stream",
     "text": [
      "You have 3068 weeks left.\n"
     ]
    }
   ],
   "source": [
    "age = input()\n",
    "# Apparently when taking 90 as the year of our death, humans have around less than 5000 weeks to leave... So here I calculate how many weeks left I have :( -- age 31--\n",
    "yearsLeft = 90 - int(age)\n",
    "weeksLeft = yearsLeft * 52\n",
    "print(f\"You have {weeksLeft} weeks left.\")"
   ]
  }
 ],
 "metadata": {
  "kernelspec": {
   "display_name": "base",
   "language": "python",
   "name": "python3"
  },
  "language_info": {
   "codemirror_mode": {
    "name": "ipython",
    "version": 3
   },
   "file_extension": ".py",
   "mimetype": "text/x-python",
   "name": "python",
   "nbconvert_exporter": "python",
   "pygments_lexer": "ipython3",
   "version": "3.9.12"
  }
 },
 "nbformat": 4,
 "nbformat_minor": 2
}
