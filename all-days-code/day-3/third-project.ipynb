{
 "cells": [
  {
   "cell_type": "markdown",
   "metadata": {},
   "source": [
    "## Choose your own adventure game"
   ]
  },
  {
   "cell_type": "code",
   "execution_count": 8,
   "metadata": {},
   "outputs": [
    {
     "name": "stdout",
     "output_type": "stream",
     "text": [
      "Welcome to Treasure Island.\n",
      "Your mission is to find the treasure.\n",
      "You are at a cross road. Where do you want to go? \"left\" or \"right\"\n",
      "left\n",
      "You came to a lake. There is an island in the middle of the lake. Do you \"wait\" for a boat or \"swim\" across ?\n",
      "wait\n",
      "You arrive safely at the island. there you find a door and three keys each can open the door but what's behind the door differs from eah keys\n",
      "Which key do you choose ? The \"platinum\" key, \"diamond\" key or the \"gold\" key?\n",
      "diamond\n",
      "The door opens, a warm light reaches you. You feel at peace. You enter and see the secret room of the island filled with endless treasures!\n",
      "You win!\n",
      "Thank you for playing Treasure Island !\n"
     ]
    }
   ],
   "source": [
    "print(\"Welcome to Treasure Island.\")\n",
    "print(\"Your mission is to find the treasure.\")\n",
    "print('You are at a cross road. Where do you want to go? \"left\" or \"right\"')\n",
    "crossroad = input('Type \"left\" or \"right\"').lower()\n",
    "if crossroad == \"right\":\n",
    "    print(crossroad)\n",
    "    print(\"You fell into a trap and got bitten to death by snakes\")\n",
    "    print(\"Game Over!\")\n",
    "elif crossroad == \"left\":\n",
    "    print(crossroad)\n",
    "    print('You came to a lake. There is an island in the middle of the lake. Do you \"wait\" for a boat or \"swim\" across ?')\n",
    "    decision = input(\"Type wait or swim\").lower()\n",
    "    if decision == \"swim\":\n",
    "        print(decision)\n",
    "        print(\"You get attacked by three white sharks and die in agonizing pain!\")\n",
    "        print(\"Game Over!\")\n",
    "    elif decision == \"wait\":\n",
    "        print(decision)\n",
    "        print(\"You arrive safely at the island. there you find a door and three keys each can open the door but what's behind the door differs from eah keys\")\n",
    "        print('Which key do you choose ? The \"platinum\" key, \"diamond\" key or the \"gold\" key?')\n",
    "        key = input(\"Type platinum, diamond or gold\").lower()\n",
    "        if key == \"gold\":\n",
    "            print(key)\n",
    "            print(\"The door opens, a bright light shines upons you, you enter... suddenly you feel hot the key opened the gate of hell! You get tormented for the rest of your life...\")\n",
    "            print(\"Game Over!\")\n",
    "        elif key == \"platinum\":\n",
    "            print(key)\n",
    "            print(\"The door opens, turns out the platinum key was a mimic and all along it was the void key, you are sent to another dimension and enslaved...\")\n",
    "            print(\"Game Over!\")\n",
    "        elif key == \"diamond\":\n",
    "            print(key)\n",
    "            print(\"The door opens, a warm light reaches you. You feel at peace. You enter and see the secret room of the island filled with endless treasures!\")\n",
    "            print(\"You win!\")\n",
    "            print(\"Thank you for playing Treasure Island !\")\n",
    "else:\n",
    "    print(\"Something went wrong... Try again\")\n"
   ]
  }
 ],
 "metadata": {
  "kernelspec": {
   "display_name": "base",
   "language": "python",
   "name": "python3"
  },
  "language_info": {
   "codemirror_mode": {
    "name": "ipython",
    "version": 3
   },
   "file_extension": ".py",
   "mimetype": "text/x-python",
   "name": "python",
   "nbconvert_exporter": "python",
   "pygments_lexer": "ipython3",
   "version": "3.9.12"
  }
 },
 "nbformat": 4,
 "nbformat_minor": 2
}
