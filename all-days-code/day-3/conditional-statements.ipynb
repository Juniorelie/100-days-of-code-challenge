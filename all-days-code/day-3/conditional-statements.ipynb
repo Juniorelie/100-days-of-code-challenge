{
 "cells": [
  {
   "cell_type": "markdown",
   "metadata": {},
   "source": [
    "## If... Else Statement"
   ]
  },
  {
   "cell_type": "code",
   "execution_count": 4,
   "metadata": {},
   "outputs": [
    {
     "name": "stdout",
     "output_type": "stream",
     "text": [
      "Good Job !\n"
     ]
    }
   ],
   "source": [
    "weight = int(input(\"Enter your weight\")) #88\n",
    "if weight > 100:\n",
    "    print(f\"Need to lose some weight\")\n",
    "else:\n",
    "    print(f\"Good Job !\")"
   ]
  },
  {
   "cell_type": "code",
   "execution_count": 5,
   "metadata": {},
   "outputs": [
    {
     "name": "stdout",
     "output_type": "stream",
     "text": [
      "This is an odd number.\n"
     ]
    }
   ],
   "source": [
    "number = int(input()) #7\n",
    "\n",
    "if number % 2 == 0:\n",
    "    print(\"This is an even number\")\n",
    "else:\n",
    "    print(\"This is an odd number.\")"
   ]
  },
  {
   "cell_type": "markdown",
   "metadata": {},
   "source": [
    "## Nested if statements and elif statetments"
   ]
  },
  {
   "cell_type": "markdown",
   "metadata": {},
   "source": [
    "### Weigth accountability example begin"
   ]
  },
  {
   "cell_type": "code",
   "execution_count": 1,
   "metadata": {},
   "outputs": [
    {
     "name": "stdout",
     "output_type": "stream",
     "text": [
      "Welcome to weight accountability\n",
      "You need to lose some weight...\n",
      "120 kg! Considering you are 35 years old, you should know better...\n"
     ]
    }
   ],
   "source": [
    "print(\"Welcome to weight accountability\")\n",
    "weight = int(input(\"Enter your weight\")) #120\n",
    "if weight > 100:\n",
    "    print(f\"You need to lose some weight...\")\n",
    "    age = int(input(\"What is your age ?\"))\n",
    "    if age <= 25:\n",
    "        print(f\"{weight} kg at {age} ?? Are you trying to kick the bucket early ? Is this a speedrun to death ?\")\n",
    "    else:\n",
    "        print(f\"{weight} kg! Considering you are {age} years old, you should know better...\")\n",
    "else:\n",
    "    print(f\"{weight} kg. Good Job !\")"
   ]
  },
  {
   "cell_type": "code",
   "execution_count": 12,
   "metadata": {},
   "outputs": [
    {
     "name": "stdout",
     "output_type": "stream",
     "text": [
      "Welcome to weight accountability updated and improved\n",
      "You need to lose some weight...\n",
      "Don't waste your twenties it's your prime, you'll regret it later...\n"
     ]
    }
   ],
   "source": [
    "print(\"Welcome to weight accountability updated and improved\")\n",
    "weight = int(input(\"Enter your weight\")) #120\n",
    "\n",
    "if weight > 100:\n",
    "    print(f\"You need to lose some weight...\")\n",
    "    age = int(input(\"What is your age ?\")) #27\n",
    "    if age >= 30:\n",
    "        print(f\"{weight} kg! Considering you are {age} years old, you should know better...\")\n",
    "    elif age < 30:\n",
    "        print(f\"Don't waste your twenties it's your prime, you'll regret it later...\")\n",
    "    elif age < 20:\n",
    "        print(f\"{weight} kg at {age} ?? Are you trying to kick the bucket early ? Is this a speedrun to death ?\")\n",
    "else:\n",
    "    print(f\"{weight} kg. Good Job !\")"
   ]
  },
  {
   "cell_type": "markdown",
   "metadata": {},
   "source": [
    "### Leap year checker"
   ]
  },
  {
   "cell_type": "code",
   "execution_count": 5,
   "metadata": {},
   "outputs": [
    {
     "name": "stdout",
     "output_type": "stream",
     "text": [
      "2030 is not leap year\n"
     ]
    }
   ],
   "source": [
    "# Leap year checker\n",
    "year = int(input(\"Which year do you want to check?\"))\n",
    "\n",
    "if year % 4 == 0:\n",
    "  if year % 100 == 0:\n",
    "    if year % 400 == 0:\n",
    "      print(f\"{year} is Leap year\")\n",
    "    else:\n",
    "      print(f\"{year} is not leap year\")\n",
    "  else:\n",
    "    print(f\"{year} is Leap year\")\n",
    "else:\n",
    "  print(f\"{year} is not leap year\")"
   ]
  },
  {
   "cell_type": "markdown",
   "metadata": {},
   "source": [
    "### The weight accountability example is back and meaner !"
   ]
  },
  {
   "cell_type": "code",
   "execution_count": 6,
   "metadata": {},
   "outputs": [
    {
     "name": "stdout",
     "output_type": "stream",
     "text": [
      "Welcome to weight accountability 3.0 now you even get advices :-o\n",
      "You need to lose some weight...\n",
      "130 kg! Considering you are 35 years old, you should know better...\n",
      "Go to the gym 4 times per weeks and eat more healthy ! Veggies ftw!!!\n",
      "Boom would you look at that !! Check out your new weight: 115 kg ! You are on your way to a better you\n"
     ]
    }
   ],
   "source": [
    "print(\"Welcome to weight accountability 3.0 now you even get advices :-o\")\n",
    "weight = int(input(\"Enter your weight in kg\"))\n",
    "\n",
    "if weight > 100:\n",
    "    print(f\"You need to lose some weight...\")\n",
    "    age = int(input(\"What is your age ?\"))\n",
    "    if age >= 30:\n",
    "        print(f\"{weight} kg! Considering you are {age} years old, you should know better...\")\n",
    "    elif age < 30:\n",
    "        print(f\"Don't waste your twenties it's your prime, you'll regret it later...\")\n",
    "    elif age < 20:\n",
    "        print(f\"{weight} kg at {age} ?? Are you trying to kick the bucket early ? Is this a speedrun to death ?\")\n",
    "\n",
    "    wantsToLoseWeight = input(\"Do you want to lose weight ? Y or N\")\n",
    "    if wantsToLoseWeight == \"Y\":\n",
    "        print(\"Go to the gym 4 times per weeks and eat more healthy ! Veggies ftw!!!\")\n",
    "        weight -= 15\n",
    "        print(f\"Boom would you look at that !! Check out your new weight: {weight} kg ! You are on your way to a better you\")\n",
    "    else:\n",
    "        weight += 20\n",
    "        print(f\"Look at you now... Happy with your {weight} kg ? \")\n",
    "\n",
    "else:\n",
    "    print(f\"{weight} kg. Good Job !\")"
   ]
  },
  {
   "cell_type": "markdown",
   "metadata": {},
   "source": [
    "### Pizza deliveries order"
   ]
  },
  {
   "cell_type": "code",
   "execution_count": 7,
   "metadata": {},
   "outputs": [
    {
     "name": "stdout",
     "output_type": "stream",
     "text": [
      "Thank you for choosing Python Pizza Deliveries!\n",
      "Your final bill is: 23€.\n",
      "Thank you for your order!\n"
     ]
    }
   ],
   "source": [
    "print(\"Thank you for choosing Python Pizza Deliveries!\")\n",
    "size = input(\"What size pizza do you want? S, M, or L\") #M\n",
    "add_pepperoni = input(\"Do you want pepperoni? Y or N\") #Y\n",
    "extra_cheese = input(\"Do you want extra cheese? Y or N\") #N\n",
    "pizza = 0\n",
    "if size == \"S\":\n",
    "  pizza = 15\n",
    "  if add_pepperoni == \"Y\":\n",
    "    pizza += 2\n",
    "  if extra_cheese == \"Y\":\n",
    "    pizza += 1\n",
    "  print(f\"Your final bill is: {pizza}€.\")\n",
    "elif size == \"M\":\n",
    "  pizza = 20\n",
    "  if add_pepperoni == \"Y\":\n",
    "    pizza += 3\n",
    "  if extra_cheese == \"Y\":\n",
    "    pizza += 1\n",
    "  print(f\"Your final bill is: {pizza}€.\")\n",
    "elif size == \"L\":\n",
    "  pizza = 25\n",
    "  if add_pepperoni == \"Y\":\n",
    "    pizza += 3\n",
    "  if extra_cheese == \"Y\":\n",
    "    pizza += 1\n",
    "  print(f\"Your final bill is: {pizza}€.\")\n",
    "else:\n",
    "  print(\"Something went wrong with your order please try again!\")\n",
    "\n",
    "if pizza > 0:\n",
    "  print(\"Thank you for your order!\")"
   ]
  },
  {
   "cell_type": "markdown",
   "metadata": {},
   "source": [
    "### The Love Calculator"
   ]
  },
  {
   "cell_type": "code",
   "execution_count": 8,
   "metadata": {},
   "outputs": [
    {
     "name": "stdout",
     "output_type": "stream",
     "text": [
      "The Love Calculator is calculating your score...\n",
      "Your score is 33.\n"
     ]
    }
   ],
   "source": [
    "print(\"The Love Calculator is calculating your score...\")\n",
    "name1 = input(\"What is your name?\") # Elie\n",
    "name2 = input(\"What is their name?\") # Rihanna\n",
    "\n",
    "name1 = name1.lower()\n",
    "name2 = name2.lower()\n",
    "t_occurences = name1.count(\"t\") + name2.count(\"t\")\n",
    "r_occurences = name1.count(\"r\") + name2.count(\"r\")\n",
    "u_occurences = name1.count(\"u\") + name2.count(\"u\")\n",
    "e_occurences = name1.count(\"e\") + name2.count(\"e\")\n",
    "totalTrue = t_occurences + r_occurences + u_occurences + e_occurences\n",
    "totalTrue = str(totalTrue)\n",
    "\n",
    "l_occurences = name1.count(\"l\") + name2.count(\"l\")\n",
    "o_occurences = name1.count(\"o\") + name2.count(\"o\")\n",
    "v_occurences = name1.count(\"v\") + name2.count(\"v\")\n",
    "totalLove = l_occurences + o_occurences + v_occurences + e_occurences\n",
    "totalLove = str(totalLove)\n",
    "\n",
    "loveScore = int(totalTrue + totalLove)\n",
    "\n",
    "if loveScore < 10 or loveScore > 90:\n",
    "  print(f\"Your score is {loveScore}, you go together like coke and mentos.\")\n",
    "elif loveScore >= 40 and loveScore <= 50:\n",
    "  print(f\"Your score is {loveScore}, you are alright together.\")\n",
    "else:\n",
    "  print(f\"Your score is {loveScore}.\")"
   ]
  }
 ],
 "metadata": {
  "kernelspec": {
   "display_name": "base",
   "language": "python",
   "name": "python3"
  },
  "language_info": {
   "codemirror_mode": {
    "name": "ipython",
    "version": 3
   },
   "file_extension": ".py",
   "mimetype": "text/x-python",
   "name": "python",
   "nbconvert_exporter": "python",
   "pygments_lexer": "ipython3",
   "version": "3.9.12"
  }
 },
 "nbformat": 4,
 "nbformat_minor": 2
}
