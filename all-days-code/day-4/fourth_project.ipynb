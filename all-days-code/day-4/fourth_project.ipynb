{
 "cells": [
  {
   "cell_type": "markdown",
   "metadata": {},
   "source": [
    "## Rock Paper Scissors "
   ]
  },
  {
   "cell_type": "code",
   "execution_count": 1,
   "metadata": {},
   "outputs": [
    {
     "name": "stdout",
     "output_type": "stream",
     "text": [
      "Welcome to rock, paper, scissors\n",
      "What do you choose ? type 0 for Rock, 1 for Paper or 2 for Scissors \n",
      "0\n",
      "You chose:\n",
      " \n",
      "    _______\n",
      "---'   ____)\n",
      "      (_____)\n",
      "      (_____)\n",
      "      (____)\n",
      "---.__(___)\n",
      "\n",
      "Computer chose:\n",
      " \n",
      "     _______\n",
      "---'    ____)____\n",
      "           ______)\n",
      "          _______)\n",
      "         _______)\n",
      "---.__________)\n",
      "\n",
      "You lose !\n"
     ]
    }
   ],
   "source": [
    "import random\n",
    "game_list = [\"\"\"\n",
    "    _______\n",
    "---'   ____)\n",
    "      (_____)\n",
    "      (_____)\n",
    "      (____)\n",
    "---.__(___)\n",
    "\"\"\", \"\"\"\n",
    "     _______\n",
    "---'    ____)____\n",
    "           ______)\n",
    "          _______)\n",
    "         _______)\n",
    "---.__________)\n",
    "\"\"\", \"\"\"\n",
    "    _______\n",
    "---'   ____)____\n",
    "          ______)\n",
    "       __________)\n",
    "      (____)\n",
    "---.__(___)\n",
    "\"\"\"]\n",
    "print(\"Welcome to rock, paper, scissors\")\n",
    "print(\"What do you choose ? type 0 for Rock, 1 for Paper or 2 for Scissors \")\n",
    "player_choice = int(input(\"0 for Rock, 1 for Paper or 2 for Scissors \"))\n",
    "computer_choice = random.randint(0, 2)\n",
    "# if choice == computer_choice:\n",
    "#     print(choice)\n",
    "#     print(f\"Computer chose: {computer_choice}\")\n",
    "#     print(\"It's a draw !\")\n",
    "if player_choice == 0:\n",
    "    print(player_choice)\n",
    "    print(f\"You chose:\\n {game_list[player_choice]}\")\n",
    "    if computer_choice == 1:\n",
    "        print(f\"Computer chose:\\n {game_list[computer_choice]}\")\n",
    "        print(\"You lose !\")\n",
    "    elif computer_choice == 2:\n",
    "        print(f\"Computer chose:\\n {game_list[computer_choice]}\")\n",
    "        print(\"You win !\")\n",
    "    else:\n",
    "        print(f\"Computer chose:\\n {game_list[computer_choice]}\")\n",
    "        print(\"It's a draw !\")\n",
    "if player_choice == 1:\n",
    "    print(player_choice)\n",
    "    print(f\"You chose:\\n {game_list[player_choice]}\")\n",
    "    if computer_choice == 0:\n",
    "        print(f\"Computer chose:\\n {game_list[computer_choice]}\")\n",
    "        print(\"You win !\")\n",
    "    elif computer_choice == 2:\n",
    "        print(f\"Computer chose:\\n {game_list[computer_choice]}\")\n",
    "        print(\"You lose !\")\n",
    "    else:\n",
    "        print(f\"Computer chose:\\n {game_list[computer_choice]}\")\n",
    "        print(\"It's a draw !\")\n",
    "if player_choice == 2:\n",
    "    print(player_choice)\n",
    "    print(f\"You chose:\\n {game_list[player_choice]}\")\n",
    "    if computer_choice == 0:\n",
    "        print(f\"Computer chose:\\n {game_list[computer_choice]}\")\n",
    "        print(\"You lose !\")\n",
    "    elif computer_choice == 1:\n",
    "        print(f\"Computer chose:\\n {game_list[computer_choice]}\")\n",
    "        print(\"You win !\")\n",
    "    else:\n",
    "        print(f\"Computer chose:\\n {game_list[computer_choice]}\")\n",
    "        print(\"It's a draw !\")"
   ]
  },
  {
   "cell_type": "markdown",
   "metadata": {},
   "source": [
    "### Another solution - without if... else statement"
   ]
  },
  {
   "cell_type": "code",
   "execution_count": 31,
   "metadata": {},
   "outputs": [
    {
     "name": "stdout",
     "output_type": "stream",
     "text": [
      "Welcome to rock, paper, scissors\n",
      "What do you choose ? type 0 for Rock, 1 for Paper or 2 for Scissors \n",
      "You chose:\n",
      " \n",
      "     _______\n",
      "---'    ____)____\n",
      "           ______)\n",
      "          _______)\n",
      "         _______)\n",
      "---.__________)\n",
      "\n",
      "The computer chose:\n",
      " \n",
      "     _______\n",
      "---'    ____)____\n",
      "           ______)\n",
      "          _______)\n",
      "         _______)\n",
      "---.__________)\n",
      "\n",
      "Your result is: draw !\n"
     ]
    }
   ],
   "source": [
    "print(\"Welcome to rock, paper, scissors\")\n",
    "print(\"What do you choose ? type 0 for Rock, 1 for Paper or 2 for Scissors\")\n",
    "player_choice = int(input(\"0 for Rock, 1 for Paper or 2 for Scissors \"))\n",
    "computer_choice = random.randint(0, 2)\n",
    "\n",
    "player_map = [[\"draw\", \"lose\", \"win\"], [\"win\",  \"draw\", \"lose\"], [\"lose\", \"win\", \"draw\"]] # We put the differetent outcomes of the game in a nested list\n",
    "\n",
    "result = player_map[player_choice][computer_choice] # We access each outcome with indices\n",
    "\n",
    "print(f\"You chose:\\n {game_list[player_choice]}\")\n",
    "print(f\"The computer chose:\\n {game_list[computer_choice]}\")\n",
    "print(f\"Your result is: {result} !\")"
   ]
  }
 ],
 "metadata": {
  "kernelspec": {
   "display_name": "base",
   "language": "python",
   "name": "python3"
  },
  "language_info": {
   "codemirror_mode": {
    "name": "ipython",
    "version": 3
   },
   "file_extension": ".py",
   "mimetype": "text/x-python",
   "name": "python",
   "nbconvert_exporter": "python",
   "pygments_lexer": "ipython3",
   "version": "3.9.12"
  }
 },
 "nbformat": 4,
 "nbformat_minor": 2
}
